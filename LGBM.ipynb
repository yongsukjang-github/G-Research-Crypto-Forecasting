{
 "cells": [
  {
   "cell_type": "code",
   "execution_count": 1,
   "metadata": {},
   "outputs": [],
   "source": [
    "# package import\n",
    "import pandas as pd\n",
    "import numpy as np\n",
    "from lightgbm import LGBMRegressor"
   ]
  },
  {
   "cell_type": "code",
   "execution_count": 6,
   "metadata": {},
   "outputs": [],
   "source": [
    "def read_csv_file(filename='/Users/yongsukjang/Desktop/kaggle/crypto_forecasting/g-research-crypto-forecasting/train.csv'):\n",
    "    df = pd.read_csv(filename)\n",
    "    df['datetime'] = pd.to_datetime(df['timestamp'],unit='s')\n",
    "    df = df[df['datetime'] < '2021-06-13 00:00:00']\n",
    "    return df\n"
   ]
  },
  {
   "cell_type": "code",
   "execution_count": 16,
   "metadata": {},
   "outputs": [],
   "source": [
    "df_train = read_csv_file()"
   ]
  },
  {
   "cell_type": "code",
   "execution_count": 17,
   "metadata": {},
   "outputs": [
    {
     "data": {
      "text/html": "<div>\n<style scoped>\n    .dataframe tbody tr th:only-of-type {\n        vertical-align: middle;\n    }\n\n    .dataframe tbody tr th {\n        vertical-align: top;\n    }\n\n    .dataframe thead th {\n        text-align: right;\n    }\n</style>\n<table border=\"1\" class=\"dataframe\">\n  <thead>\n    <tr style=\"text-align: right;\">\n      <th></th>\n      <th>timestamp</th>\n      <th>Asset_ID</th>\n      <th>Count</th>\n      <th>Open</th>\n      <th>High</th>\n      <th>Low</th>\n      <th>Close</th>\n      <th>Volume</th>\n      <th>VWAP</th>\n      <th>Target</th>\n      <th>datetime</th>\n    </tr>\n  </thead>\n  <tbody>\n    <tr>\n      <th>0</th>\n      <td>1514764860</td>\n      <td>2</td>\n      <td>40.0</td>\n      <td>2376.5800</td>\n      <td>2399.5000</td>\n      <td>2357.1400</td>\n      <td>2374.5900</td>\n      <td>19.233005</td>\n      <td>2373.116392</td>\n      <td>-0.004218</td>\n      <td>2018-01-01 00:01:00</td>\n    </tr>\n    <tr>\n      <th>1</th>\n      <td>1514764860</td>\n      <td>0</td>\n      <td>5.0</td>\n      <td>8.5300</td>\n      <td>8.5300</td>\n      <td>8.5300</td>\n      <td>8.5300</td>\n      <td>78.380000</td>\n      <td>8.530000</td>\n      <td>-0.014399</td>\n      <td>2018-01-01 00:01:00</td>\n    </tr>\n    <tr>\n      <th>2</th>\n      <td>1514764860</td>\n      <td>1</td>\n      <td>229.0</td>\n      <td>13835.1940</td>\n      <td>14013.8000</td>\n      <td>13666.1100</td>\n      <td>13850.1760</td>\n      <td>31.550062</td>\n      <td>13827.062093</td>\n      <td>-0.014643</td>\n      <td>2018-01-01 00:01:00</td>\n    </tr>\n    <tr>\n      <th>3</th>\n      <td>1514764860</td>\n      <td>5</td>\n      <td>32.0</td>\n      <td>7.6596</td>\n      <td>7.6596</td>\n      <td>7.6567</td>\n      <td>7.6576</td>\n      <td>6626.713370</td>\n      <td>7.657713</td>\n      <td>-0.013922</td>\n      <td>2018-01-01 00:01:00</td>\n    </tr>\n    <tr>\n      <th>4</th>\n      <td>1514764860</td>\n      <td>7</td>\n      <td>5.0</td>\n      <td>25.9200</td>\n      <td>25.9200</td>\n      <td>25.8740</td>\n      <td>25.8770</td>\n      <td>121.087310</td>\n      <td>25.891363</td>\n      <td>-0.008264</td>\n      <td>2018-01-01 00:01:00</td>\n    </tr>\n  </tbody>\n</table>\n</div>",
      "text/plain": "    timestamp  Asset_ID  Count  ...          VWAP    Target            datetime\n0  1514764860         2   40.0  ...   2373.116392 -0.004218 2018-01-01 00:01:00\n1  1514764860         0    5.0  ...      8.530000 -0.014399 2018-01-01 00:01:00\n2  1514764860         1  229.0  ...  13827.062093 -0.014643 2018-01-01 00:01:00\n3  1514764860         5   32.0  ...      7.657713 -0.013922 2018-01-01 00:01:00\n4  1514764860         7    5.0  ...     25.891363 -0.008264 2018-01-01 00:01:00\n\n[5 rows x 11 columns]"
     },
     "execution_count": 17,
     "metadata": {},
     "output_type": "execute_result"
    }
   ],
   "source": [
    "df_train.head()"
   ]
  },
  {
   "cell_type": "code",
   "execution_count": 18,
   "metadata": {},
   "outputs": [
    {
     "data": {
      "text/html": "<div>\n<style scoped>\n    .dataframe tbody tr th:only-of-type {\n        vertical-align: middle;\n    }\n\n    .dataframe tbody tr th {\n        vertical-align: top;\n    }\n\n    .dataframe thead th {\n        text-align: right;\n    }\n</style>\n<table border=\"1\" class=\"dataframe\">\n  <thead>\n    <tr style=\"text-align: right;\">\n      <th></th>\n      <th>Asset_ID</th>\n      <th>Weight</th>\n      <th>Asset_Name</th>\n    </tr>\n  </thead>\n  <tbody>\n    <tr>\n      <th>1</th>\n      <td>0</td>\n      <td>4.304065</td>\n      <td>Binance Coin</td>\n    </tr>\n    <tr>\n      <th>2</th>\n      <td>1</td>\n      <td>6.779922</td>\n      <td>Bitcoin</td>\n    </tr>\n    <tr>\n      <th>0</th>\n      <td>2</td>\n      <td>2.397895</td>\n      <td>Bitcoin Cash</td>\n    </tr>\n    <tr>\n      <th>10</th>\n      <td>3</td>\n      <td>4.406719</td>\n      <td>Cardano</td>\n    </tr>\n    <tr>\n      <th>13</th>\n      <td>4</td>\n      <td>3.555348</td>\n      <td>Dogecoin</td>\n    </tr>\n    <tr>\n      <th>3</th>\n      <td>5</td>\n      <td>1.386294</td>\n      <td>EOS.IO</td>\n    </tr>\n    <tr>\n      <th>5</th>\n      <td>6</td>\n      <td>5.894403</td>\n      <td>Ethereum</td>\n    </tr>\n    <tr>\n      <th>4</th>\n      <td>7</td>\n      <td>2.079442</td>\n      <td>Ethereum Classic</td>\n    </tr>\n    <tr>\n      <th>11</th>\n      <td>8</td>\n      <td>1.098612</td>\n      <td>IOTA</td>\n    </tr>\n    <tr>\n      <th>6</th>\n      <td>9</td>\n      <td>2.397895</td>\n      <td>Litecoin</td>\n    </tr>\n    <tr>\n      <th>12</th>\n      <td>10</td>\n      <td>1.098612</td>\n      <td>Maker</td>\n    </tr>\n    <tr>\n      <th>7</th>\n      <td>11</td>\n      <td>1.609438</td>\n      <td>Monero</td>\n    </tr>\n    <tr>\n      <th>9</th>\n      <td>12</td>\n      <td>2.079442</td>\n      <td>Stellar</td>\n    </tr>\n    <tr>\n      <th>8</th>\n      <td>13</td>\n      <td>1.791759</td>\n      <td>TRON</td>\n    </tr>\n  </tbody>\n</table>\n</div>",
      "text/plain": "    Asset_ID    Weight        Asset_Name\n1          0  4.304065      Binance Coin\n2          1  6.779922           Bitcoin\n0          2  2.397895      Bitcoin Cash\n10         3  4.406719           Cardano\n13         4  3.555348          Dogecoin\n3          5  1.386294            EOS.IO\n5          6  5.894403          Ethereum\n4          7  2.079442  Ethereum Classic\n11         8  1.098612              IOTA\n6          9  2.397895          Litecoin\n12        10  1.098612             Maker\n7         11  1.609438            Monero\n9         12  2.079442           Stellar\n8         13  1.791759              TRON"
     },
     "execution_count": 18,
     "metadata": {},
     "output_type": "execute_result"
    }
   ],
   "source": [
    "df_asset_details = pd.read_csv('/Users/yongsukjang/Desktop/kaggle/crypto_forecasting/g-research-crypto-forecasting/asset_details.csv').sort_values(\"Asset_ID\")\n",
    "df_asset_details"
   ]
  },
  {
   "cell_type": "code",
   "execution_count": 19,
   "metadata": {},
   "outputs": [],
   "source": [
    "#Training"
   ]
  },
  {
   "cell_type": "code",
   "execution_count": 20,
   "metadata": {},
   "outputs": [],
   "source": [
    "#new feature\n",
    "#upper/lower shadow\n",
    "\n",
    "def upper_shadow(df):\n",
    "    return df['High'] - np.maximum(df['Close'],df['Open'])\n",
    "\n",
    "def lower_shadow(df):\n",
    "    return np.minimum(df['Close'],df['Open']) - df['Low']"
   ]
  },
  {
   "cell_type": "code",
   "execution_count": 23,
   "metadata": {},
   "outputs": [],
   "source": [
    "def get_features(df):\n",
    "    df_feat = df[['Count', 'Open', 'High', 'Low', 'Close', 'Volume', 'VWAP']].copy()\n",
    "    df_feat['upper_shadow'] = upper_shadow(df=df_feat)\n",
    "    df_feat['lower_shadow'] = lower_shadow(df=df_feat)\n",
    "    return df_feat"
   ]
  },
  {
   "cell_type": "code",
   "execution_count": 25,
   "metadata": {},
   "outputs": [
    {
     "data": {
      "text/html": "<div>\n<style scoped>\n    .dataframe tbody tr th:only-of-type {\n        vertical-align: middle;\n    }\n\n    .dataframe tbody tr th {\n        vertical-align: top;\n    }\n\n    .dataframe thead th {\n        text-align: right;\n    }\n</style>\n<table border=\"1\" class=\"dataframe\">\n  <thead>\n    <tr style=\"text-align: right;\">\n      <th></th>\n      <th>Count</th>\n      <th>Open</th>\n      <th>High</th>\n      <th>Low</th>\n      <th>Close</th>\n      <th>Volume</th>\n      <th>VWAP</th>\n      <th>upper_shadow</th>\n      <th>lower_shadow</th>\n    </tr>\n  </thead>\n  <tbody>\n    <tr>\n      <th>0</th>\n      <td>40.0</td>\n      <td>2376.5800</td>\n      <td>2399.5000</td>\n      <td>2357.1400</td>\n      <td>2374.5900</td>\n      <td>19.233005</td>\n      <td>2373.116392</td>\n      <td>22.920</td>\n      <td>17.4500</td>\n    </tr>\n    <tr>\n      <th>1</th>\n      <td>5.0</td>\n      <td>8.5300</td>\n      <td>8.5300</td>\n      <td>8.5300</td>\n      <td>8.5300</td>\n      <td>78.380000</td>\n      <td>8.530000</td>\n      <td>0.000</td>\n      <td>0.0000</td>\n    </tr>\n    <tr>\n      <th>2</th>\n      <td>229.0</td>\n      <td>13835.1940</td>\n      <td>14013.8000</td>\n      <td>13666.1100</td>\n      <td>13850.1760</td>\n      <td>31.550062</td>\n      <td>13827.062093</td>\n      <td>163.624</td>\n      <td>169.0840</td>\n    </tr>\n    <tr>\n      <th>3</th>\n      <td>32.0</td>\n      <td>7.6596</td>\n      <td>7.6596</td>\n      <td>7.6567</td>\n      <td>7.6576</td>\n      <td>6626.713370</td>\n      <td>7.657713</td>\n      <td>0.000</td>\n      <td>0.0009</td>\n    </tr>\n    <tr>\n      <th>4</th>\n      <td>5.0</td>\n      <td>25.9200</td>\n      <td>25.9200</td>\n      <td>25.8740</td>\n      <td>25.8770</td>\n      <td>121.087310</td>\n      <td>25.891363</td>\n      <td>0.000</td>\n      <td>0.0030</td>\n    </tr>\n  </tbody>\n</table>\n</div>",
      "text/plain": "   Count        Open        High  ...          VWAP  upper_shadow  lower_shadow\n0   40.0   2376.5800   2399.5000  ...   2373.116392        22.920       17.4500\n1    5.0      8.5300      8.5300  ...      8.530000         0.000        0.0000\n2  229.0  13835.1940  14013.8000  ...  13827.062093       163.624      169.0840\n3   32.0      7.6596      7.6596  ...      7.657713         0.000        0.0009\n4    5.0     25.9200     25.9200  ...     25.891363         0.000        0.0030\n\n[5 rows x 9 columns]"
     },
     "execution_count": 25,
     "metadata": {},
     "output_type": "execute_result"
    }
   ],
   "source": [
    "get_features(df=df_train).head()"
   ]
  },
  {
   "cell_type": "code",
   "execution_count": 26,
   "metadata": {},
   "outputs": [],
   "source": [
    "def get_Xy_and_model_for_asset(df_train, asset_id):\n",
    "    df = df_train[df_train['Asset_ID'] == asset_id]\n",
    "\n",
    "    df_proc = get_features(df)\n",
    "    df_proc['y'] = df['Target']\n",
    "    df_proc = df_proc.replace([np.inf, -np.inf], np.nan).dropna(how='any')\n",
    "\n",
    "    X=df_proc.drop('y',axis=1)\n",
    "    y=df_proc['y']\n",
    "\n",
    "    model = LGBMRegressor(n_estimators=10)\n",
    "    model.fit(X,y)\n",
    "    return X, y, model"
   ]
  },
  {
   "cell_type": "code",
   "execution_count": 27,
   "metadata": {},
   "outputs": [
    {
     "name": "stdout",
     "output_type": "stream",
     "text": [
      "Training model for Binance Coin     (ID=0 )\n",
      "Training model for Bitcoin          (ID=1 )\n",
      "Training model for Bitcoin Cash     (ID=2 )\n",
      "Training model for Cardano          (ID=3 )\n",
      "Training model for Dogecoin         (ID=4 )\n",
      "Training model for EOS.IO           (ID=5 )\n",
      "Training model for Ethereum         (ID=6 )\n",
      "Training model for Ethereum Classic (ID=7 )\n",
      "Training model for IOTA             (ID=8 )\n",
      "Training model for Litecoin         (ID=9 )\n",
      "Training model for Maker            (ID=10)\n",
      "Training model for Monero           (ID=11)\n",
      "Training model for Stellar          (ID=12)\n",
      "Training model for TRON             (ID=13)\n"
     ]
    }
   ],
   "source": [
    "#Loop over all assets\n",
    "Xs = {}\n",
    "ys = {}\n",
    "models = {}\n",
    "\n",
    "for asset_id, asset_name in zip(df_asset_details['Asset_ID'], df_asset_details['Asset_Name']):\n",
    "    print(f\"Training model for {asset_name:<16} (ID={asset_id:<2})\")\n",
    "    X, y, model = get_Xy_and_model_for_asset(df_train, asset_id)    \n",
    "    Xs[asset_id], ys[asset_id], models[asset_id] = X, y, model"
   ]
  },
  {
   "cell_type": "code",
   "execution_count": 28,
   "metadata": {},
   "outputs": [
    {
     "name": "stderr",
     "output_type": "stream",
     "text": [
      "/usr/local/Caskroom/miniforge/base/envs/dacon_cc/lib/python3.8/site-packages/lightgbm/sklearn.py:719: FutureWarning: Arrays of bytes/strings is being converted to decimal numbers if dtype='numeric'. This behavior is deprecated in 0.24 and will be removed in 1.1 (renaming of 0.26). Please convert your data to numeric values explicitly instead.\n",
      "  X = _LGBMCheckArray(X, accept_sparse=True, force_all_finite=False)\n"
     ]
    },
    {
     "data": {
      "text/plain": "9.477576309595709e-06"
     },
     "execution_count": 28,
     "metadata": {},
     "output_type": "execute_result"
    }
   ],
   "source": [
    "# Check the model interface\n",
    "x = get_features(df_train.iloc[1])\n",
    "y_pred = models[0].predict([x])\n",
    "y_pred[0]"
   ]
  }
 ],
 "metadata": {
  "kernelspec": {
   "display_name": "Python 3 (ipykernel)",
   "language": "python",
   "name": "python3"
  },
  "language_info": {
   "codemirror_mode": {
    "name": "ipython",
    "version": 3
   },
   "file_extension": ".py",
   "mimetype": "text/x-python",
   "name": "python",
   "nbconvert_exporter": "python",
   "pygments_lexer": "ipython3",
   "version": "3.8.12"
  },
  "orig_nbformat": 2
 },
 "nbformat": 4,
 "nbformat_minor": 2
}